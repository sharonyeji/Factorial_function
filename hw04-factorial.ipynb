{
 "cells": [
  {
   "cell_type": "code",
   "execution_count": 1,
   "metadata": {
    "collapsed": false
   },
   "outputs": [
   ],
   "source": [
    "import factorial"
   ]
  },
  {
   "cell_type": "code",
   "execution_count": 0,
   "metadata": {
    "collapsed": false
   },
   "outputs": [
   ],
   "source": [
    "#The Factorial Sequence\n",
    "Sharon Kim\n",
    "September 26th, 2017\n",
    "\n",
    "##Algorithm Description\n",
    "I created 3 different algorithms to determine the factorial of an integer. The first module, fac1() uses a decreasing iterative process to determine the factorial of an integer. It multiplies n*n-1*n-2...*2*1. The if else statement is an efficient way to quickly determine n!\n",
    "\n",
    "The second module, fac2() also uses a similar decreasing iterative process but two variables are used in this algorithm. The variable i begins at 1, and n is assigned a value.  The i variable and n variable are multiplied together. The variable n is then redefined as n-1, and multiplied by i.  This step is repeated and the factorial of n is found. The while statement is another efficient way to quickly determine n!\n",
    "\n",
    "The third module, fac3() uses a generator to determine the factorial value of an integer. The generator creates the values 1!, 2!, 3!, ..., n!, so fac3() is used to place those values in a list and choose n! as the output. Although the use of a generator is efficient, placing it into a list and choosing n! from the list may not be as efficient as the first 2 modules.\n",
    "\n"
   ]
  },
  {
   "cell_type": "code",
   "execution_count": 0,
   "metadata": {
    "collapsed": false
   },
   "outputs": [
   ],
   "source": [
    "##Benchmarking Implementations"
   ]
  },
  {
   "cell_type": "code",
   "execution_count": 5,
   "metadata": {
    "collapsed": false
   },
   "outputs": [
    {
     "name": "stdout",
     "output_type": "stream",
     "text": [
      "20.5 µs ± 1.69 µs per loop (mean ± std. dev. of 7 runs, 100000 loops each)\n"
     ]
    }
   ],
   "source": [
    "%timeit factorial.fac1(100)"
   ]
  },
  {
   "cell_type": "code",
   "execution_count": 6,
   "metadata": {
    "collapsed": false
   },
   "outputs": [
    {
     "name": "stdout",
     "output_type": "stream",
     "text": [
      "12.7 µs ± 643 ns per loop (mean ± std. dev. of 7 runs, 100000 loops each)\n"
     ]
    }
   ],
   "source": [
    "%timeit factorial.fac2(100)"
   ]
  },
  {
   "cell_type": "code",
   "execution_count": 7,
   "metadata": {
    "collapsed": false
   },
   "outputs": [
    {
     "name": "stdout",
     "output_type": "stream",
     "text": [
      "39.7 µs ± 4.45 µs per loop (mean ± std. dev. of 7 runs, 10000 loops each)\n"
     ]
    }
   ],
   "source": [
    "%timeit factorial.fac3(100)"
   ]
  },
  {
   "cell_type": "code",
   "execution_count": 0,
   "metadata": {
    "collapsed": false
   },
   "outputs": [
   ],
   "source": [
    "After using the %timeit command, I saw that factorial.fac2() was the most efficient way to determine n!.  The while command is probably faster than the if else command because it does not have to determine if the number needs to run again into the \"else\" category. As expected, factorial.fac3() is the slowest way because a list is used."
   ]
  }
 ],
 "metadata": {
  "kernelspec": {
   "display_name": "Python 3 (Ubuntu Linux)",
   "language": "python",
   "name": "python3"
  },
  "language_info": {
   "codemirror_mode": {
    "name": "ipython",
    "version": 3
   },
   "file_extension": ".py",
   "mimetype": "text/x-python",
   "name": "python",
   "nbconvert_exporter": "python",
   "pygments_lexer": "ipython3",
   "version": "3.5.2"
  }
 },
 "nbformat": 4,
 "nbformat_minor": 0
}