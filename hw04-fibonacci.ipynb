{
 "cells": [
  {
   "cell_type": "code",
   "execution_count": 2,
   "metadata": {
    "collapsed": false
   },
   "outputs": [
   ],
   "source": [
    "import sequences"
   ]
  },
  {
   "cell_type": "code",
   "execution_count": 13,
   "metadata": {
    "collapsed": false
   },
   "outputs": [
   ],
   "source": [
    "# The Fibonacci Sequence\n",
    "Sharon Kim\n",
    "September 26th, 2017\n",
    "\n",
    "## Original Implementation\n",
    "In the original implementation of the fibonacci sequence, it started with the empty list retList. Then a for loop was created so that the list would be filled with the fibonacci sequence. The variables f1 and f2 were defined as 1 and 1. Their values were added to each other and renamed to a new variable fn. The variable f2 was then renamed to equal fn. This all occurs in the for loop and the step is repeated until n values are appended into retList."
   ]
  },
  {
   "cell_type": "code",
   "execution_count": 0,
   "metadata": {
    "collapsed": false
   },
   "outputs": [
   ],
   "source": [
    "##Generator Implementation\n",
    "\n",
    "In the 2nd implementation of the fibonacci sequence, a generator is used to create the first n numbers that follow the fibonacci sequence.  Then, another module is defined so that the generator can be used to fill the empty list.\n",
    "\n",
    "These two implementations are similar in the way the fibonacci sequence is determined. However they differ because the original implementation uses a for loop to append an empty list, whereas the 2nd implementation uses a generator to first define the numbers that are in the fibonacci sequence, then fill those numbers in an empty list with another function."
   ]
  },
  {
   "cell_type": "code",
   "execution_count": 14,
   "metadata": {
    "collapsed": false
   },
   "outputs": [
    {
     "data": {
      "text/plain": [
       "[1, 1, 2, 3, 5, 8]"
      ]
     },
     "execution_count": 14,
     "metadata": {
     },
     "output_type": "execute_result"
    }
   ],
   "source": [
    "'''Sequences.py '''\n",
    "\n",
    "retList = []\n",
    "def fibonacci(n):\n",
    "    \n",
    "    f = sequences.fib_gen()\n",
    "    [retList.append(next(f)) for _ in range(n)]\n",
    "    \n",
    "    return retList\n",
    "\n",
    "fibonacci(6)"
   ]
  },
  {
   "cell_type": "code",
   "execution_count": 0,
   "metadata": {
    "collapsed": false
   },
   "outputs": [
   ],
   "source": [
   ]
  }
 ],
 "metadata": {
  "kernelspec": {
   "display_name": "Python 3 (Ubuntu Linux)",
   "language": "python",
   "name": "python3"
  },
  "language_info": {
   "codemirror_mode": {
    "name": "ipython",
    "version": 3
   },
   "file_extension": ".py",
   "mimetype": "text/x-python",
   "name": "python",
   "nbconvert_exporter": "python",
   "pygments_lexer": "ipython3",
   "version": "3.5.2"
  }
 },
 "nbformat": 4,
 "nbformat_minor": 0
}